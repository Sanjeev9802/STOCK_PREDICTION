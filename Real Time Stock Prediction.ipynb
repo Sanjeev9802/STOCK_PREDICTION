{
 "cells": [
  {
   "cell_type": "code",
   "execution_count": null,
   "id": "ca7f9680",
   "metadata": {},
   "outputs": [],
   "source": [
    "import requests\n",
    "from bs4 import BeautifulSoup\n",
    "import pandas as pd\n",
    "import time\n",
    "\n",
    "headers = {'user-agent':'Mozilla/5.0 (Windows NT 10.0; Win64; x64) AppleWebKit/537.36 (KHTML, like Gecko) Chrome/84.0.4147.105 Safari/537.36'}\n",
    "\n",
    "urls = [\n",
    "    'https://groww.in/us-stocks/nke',\n",
    "    'https://groww.in/us-stocks/ko', \n",
    "    'https://groww.in/us-stocks/msft', \n",
    "    'https://groww.in/stocks/m-india-ltd', \n",
    "    'https://groww.in/us-stocks/axp', \n",
    "    'https://groww.in/us-stocks/amgn', \n",
    "    'https://groww.in/us-stocks/aapl', \n",
    "    'https://groww.in/us-stocks/ba', \n",
    "    'https://groww.in/us-stocks/csco', \n",
    "    'https://groww.in/us-stocks/gs', \n",
    "    'https://groww.in/us-stocks/ibm', \n",
    "    'https://groww.in/us-stocks/intc', \n",
    "    'https://groww.in/us-stocks/jpm', \n",
    "    'https://groww.in/us-stocks/mcd',\n",
    "    'https://groww.in/us-stocks/crm', \n",
    "    'https://groww.in/us-stocks/vz', \n",
    "    'https://groww.in/us-stocks/v', \n",
    "    'https://groww.in/us-stocks/wmt',  \n",
    "    'https://groww.in/us-stocks/dis'\n",
    "]\n",
    "\n",
    "all_data = []\n",
    "for url in urls:\n",
    "    page = requests.get(url, headers=headers)\n",
    "    soup = BeautifulSoup(page.text, 'html.parser')\n",
    "    try:\n",
    "        company = soup.find('h1', {'class': 'usph14Head displaySmall'}).text.strip()\n",
    "        price = soup.find('span', {'class': 'uht141Pri contentPrimary displayBase'}).text.strip()\n",
    "        change = soup.find('div', {'class': 'uht141Day bodyBaseHeavy contentNegative'}).text.strip()\n",
    "        volume = soup.find('table', {'class': 'tb10Table col l5'}).find_all('td')[1].text.strip()\n",
    "        all_data.append([company, price, change, volume])\n",
    "    except AttributeError:\n",
    "        print(f\"Failed to fetch data for URL: {url}. Verify the HTML structure.\")\n",
    "    time.sleep(10)  # Pause to avoid being rate-limited\n",
    "\n",
    "# Save data to Excel\n",
    "column_names = [\"Company\", \"Price\", \"Change\", \"Volume\"]\n",
    "df = pd.DataFrame(all_data, columns=column_names)\n",
    "df.to_excel('stocks.xlsx', index=False)\n",
    "print(\"Data saved to stocks.xlsx\")\n",
    "\n",
    "\n"
   ]
  }
 ],
 "metadata": {
  "kernelspec": {
   "display_name": "Python 3 (ipykernel)",
   "language": "python",
   "name": "python3"
  },
  "language_info": {
   "codemirror_mode": {
    "name": "ipython",
    "version": 3
   },
   "file_extension": ".py",
   "mimetype": "text/x-python",
   "name": "python",
   "nbconvert_exporter": "python",
   "pygments_lexer": "ipython3",
   "version": "3.11.5"
  }
 },
 "nbformat": 4,
 "nbformat_minor": 5
}
