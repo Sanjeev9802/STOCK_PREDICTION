{
 "cells": [
  {
   "cell_type": "code",
   "execution_count": 1,
   "id": "fe385dff",
   "metadata": {},
   "outputs": [
    {
     "name": "stdout",
     "output_type": "stream",
     "text": [
      "Error: CSV must contain 'buyers' and 'sellers' columns.\n"
     ]
    }
   ],
   "source": [
    "import pandas as pd\n",
    "\n",
    "def analyze_data(data):\n",
    "    data['sellers_exceed_by_50_percent'] = data['sellers'] > (1.5 * data['buyers'])\n",
    "    return data[data['sellers_exceed_by_50_percent']]\n",
    "\n",
    "def main():\n",
    "    file_path = r\"C:\\Users\\SANJEEV\\Downloads\\option-chain-ED-NIFTY-02-Jan-2025.csv\"\n",
    "    try:\n",
    "        data = pd.read_csv(file_path)\n",
    "    except Exception as e:\n",
    "        print(f\"Error loading file: {e}\")\n",
    "        return\n",
    "\n",
    "    if 'buyers' not in data.columns or 'sellers' not in data.columns:\n",
    "        print(\"Error: CSV must contain 'buyers' and 'sellers' columns.\")\n",
    "        return\n",
    "\n",
    "    result = analyze_data(data)\n",
    "\n",
    "    if not result.empty:\n",
    "        print(\"Sellers exceeded buyers by 50% at the following instances:\")\n",
    "        print(result[['time', 'buyers', 'sellers']])\n",
    "    else:\n",
    "        print(\"No instances where sellers exceeded buyers by 50%.\")\n",
    "\n",
    "if __name__ == \"__main__\":\n",
    "    main()\n"
   ]
  },
  {
   "cell_type": "code",
   "execution_count": null,
   "id": "3ed31a64",
   "metadata": {},
   "outputs": [],
   "source": []
  }
 ],
 "metadata": {
  "kernelspec": {
   "display_name": "Python 3 (ipykernel)",
   "language": "python",
   "name": "python3"
  },
  "language_info": {
   "codemirror_mode": {
    "name": "ipython",
    "version": 3
   },
   "file_extension": ".py",
   "mimetype": "text/x-python",
   "name": "python",
   "nbconvert_exporter": "python",
   "pygments_lexer": "ipython3",
   "version": "3.11.5"
  }
 },
 "nbformat": 4,
 "nbformat_minor": 5
}
